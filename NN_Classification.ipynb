{
  "nbformat": 4,
  "nbformat_minor": 0,
  "metadata": {
    "colab": {
      "provenance": [],
      "authorship_tag": "ABX9TyNspuWxYrDZmyWd81N4aOFY",
      "include_colab_link": true
    },
    "kernelspec": {
      "name": "python3",
      "display_name": "Python 3"
    },
    "language_info": {
      "name": "python"
    }
  },
  "cells": [
    {
      "cell_type": "markdown",
      "metadata": {
        "id": "view-in-github",
        "colab_type": "text"
      },
      "source": [
        "<a href=\"https://colab.research.google.com/github/Shivani-Pathak/ANN--Basics/blob/main/NN_Classification.ipynb\" target=\"_parent\"><img src=\"https://colab.research.google.com/assets/colab-badge.svg\" alt=\"Open In Colab\"/></a>"
      ]
    },
    {
      "cell_type": "code",
      "execution_count": null,
      "metadata": {
        "id": "9bRkoKBicCXL"
      },
      "outputs": [],
      "source": [
        "import torch\n",
        "import torch.nn as nn\n",
        "import torch.optim as optim\n",
        "from torch.utils.data import DataLoader, TensorDataset\n",
        "from sklearn.datasets import load_iris\n",
        "\n",
        "from sklearn.model_selection import train_test_split\n",
        "from sklearn.preprocessing import StandardScaler\n",
        "from sklearn.preprocessing import LabelEncoder"
      ]
    },
    {
      "cell_type": "code",
      "source": [
        "# Load the dataset\n",
        "data = load_iris()\n",
        "X = data.data.astype('float32')  #4 features\n",
        "y = data.target                  # 3 classes\n",
        "\n",
        "# Split and scale the data\n",
        "X_train, X_test, y_train, y_test = train_test_split(X, y, test_size=0.2, random_state=42)\n",
        "scaler = StandardScaler()\n",
        "X_train = scaler.fit_transform(X_train).astype('float32')\n",
        "X_test = scaler.transform(X_test).astype('float32')\n",
        "\n",
        "# Convert to PyTorch tensors\n",
        "X_train_tensor = torch.tensor(X_train)\n",
        "y_train_tensor = torch.tensor(y_train).long()\n",
        "X_test_tensor = torch.tensor(X_test)\n",
        "y_test_tensor = torch.tensor(y_test).long()\n",
        "\n",
        "# DataLoader\n",
        "train_dataset = TensorDataset(X_train_tensor, y_train_tensor)\n",
        "train_loader = DataLoader(train_dataset, batch_size=32, shuffle=True)\n",
        "\n",
        "# Define the model\n",
        "model = nn.Sequential(\n",
        "    nn.Linear(4, 64),\n",
        "    nn.ReLU(),\n",
        "    nn.Linear(64, 32),\n",
        "    nn.ReLU(),\n",
        "    nn.Linear(32, 3)  # 3 output classes\n",
        ")\n",
        "\n",
        "# Loss function and optimizer\n",
        "criterion = nn.CrossEntropyLoss()\n",
        "optimizer = optim.Adam(model.parameters(), lr=0.001)\n",
        "\n",
        "# Train the model\n",
        "num_epochs = 20\n",
        "for epoch in range(num_epochs):\n",
        "    total_loss = 0\n",
        "    for batch_X, batch_y in train_loader:\n",
        "        preds = model(batch_X)\n",
        "        loss = criterion(preds, batch_y)\n",
        "\n",
        "        optimizer.zero_grad()\n",
        "        loss.backward()\n",
        "        optimizer.step()\n",
        "        total_loss += loss.item()\n",
        "\n",
        "    print(f\"Epoch {epoch+1}, Loss: {total_loss / len(train_loader):.4f}\")\n",
        "\n",
        "# Evaluate\n",
        "model.eval()\n",
        "with torch.no_grad():\n",
        "    test_preds = model(X_test_tensor)\n",
        "    predicted_classes = torch.argmax(test_preds, dim=1)\n",
        "    accuracy = (predicted_classes == y_test_tensor).float().mean()\n",
        "    print(f\"\\nTest Accuracy: {accuracy.item()*100:.2f}%\")\n",
        "\n",
        "    # Predict a sample\n",
        "    sample = X_test_tensor[0].unsqueeze(0)\n",
        "    output = model(sample)\n",
        "    predicted = torch.argmax(output).item()\n",
        "    print(f\"Predicted: {predicted}, Actual: {y_test_tensor[0].item()}\")\n"
      ],
      "metadata": {
        "colab": {
          "base_uri": "https://localhost:8080/"
        },
        "id": "jzEo1JVSfRTj",
        "outputId": "524f5eb1-ccb2-4d10-9d39-ad97dedbc514"
      },
      "execution_count": null,
      "outputs": [
        {
          "output_type": "stream",
          "name": "stdout",
          "text": [
            "Epoch 1, Loss: 1.1193\n",
            "Epoch 2, Loss: 1.0755\n",
            "Epoch 3, Loss: 1.0348\n",
            "Epoch 4, Loss: 0.9970\n",
            "Epoch 5, Loss: 0.9568\n",
            "Epoch 6, Loss: 0.9179\n",
            "Epoch 7, Loss: 0.8786\n",
            "Epoch 8, Loss: 0.8341\n",
            "Epoch 9, Loss: 0.7878\n",
            "Epoch 10, Loss: 0.7345\n",
            "Epoch 11, Loss: 0.6970\n",
            "Epoch 12, Loss: 0.6487\n",
            "Epoch 13, Loss: 0.6038\n",
            "Epoch 14, Loss: 0.5626\n",
            "Epoch 15, Loss: 0.5342\n",
            "Epoch 16, Loss: 0.5000\n",
            "Epoch 17, Loss: 0.4782\n",
            "Epoch 18, Loss: 0.4510\n",
            "Epoch 19, Loss: 0.4307\n",
            "Epoch 20, Loss: 0.4094\n",
            "\n",
            "Test Accuracy: 90.00%\n",
            "Predicted: 1, Actual: 1\n"
          ]
        }
      ]
    },
    {
      "cell_type": "code",
      "source": [],
      "metadata": {
        "id": "TXC_anXjiOdt"
      },
      "execution_count": null,
      "outputs": []
    }
  ]
}