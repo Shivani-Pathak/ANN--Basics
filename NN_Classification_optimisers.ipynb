{
  "nbformat": 4,
  "nbformat_minor": 0,
  "metadata": {
    "colab": {
      "provenance": [],
      "authorship_tag": "ABX9TyOOxg33sSZpn5gElfMEPdy6",
      "include_colab_link": true
    },
    "kernelspec": {
      "name": "python3",
      "display_name": "Python 3"
    },
    "language_info": {
      "name": "python"
    }
  },
  "cells": [
    {
      "cell_type": "markdown",
      "metadata": {
        "id": "view-in-github",
        "colab_type": "text"
      },
      "source": [
        "<a href=\"https://colab.research.google.com/github/Shivani-Pathak/ANN--Basics/blob/main/NN_Classification_optimisers.ipynb\" target=\"_parent\"><img src=\"https://colab.research.google.com/assets/colab-badge.svg\" alt=\"Open In Colab\"/></a>"
      ]
    },
    {
      "cell_type": "code",
      "source": [
        "import torch\n",
        "import torch.nn as nn\n",
        "import torch.optim as optim\n",
        "from torch.utils.data import DataLoader, TensorDataset\n",
        "from sklearn.datasets import load_wine\n",
        "from sklearn.model_selection import train_test_split\n",
        "from sklearn.preprocessing import StandardScaler\n",
        "from sklearn.preprocessing import LabelEncoder"
      ],
      "metadata": {
        "id": "LF1KEzaHCHzN"
      },
      "execution_count": null,
      "outputs": []
    },
    {
      "cell_type": "code",
      "source": [
        "data = load_wine()\n",
        "X = data.data.astype('float32') # 13 features\n",
        "y = data.target                 # 3 classes\n",
        "\n",
        "X_train, X_test, y_train, y_test = train_test_split(X, y, test_size=0.2, random_state=42)\n",
        "scaler = StandardScaler()\n",
        "X_train = scaler.fit_transform(X_train).astype('float32')\n",
        "X_test = scaler.transform(X_test).astype('float32')\n",
        "\n",
        "#convert to PyTorch tensors\n",
        "X_train_tensor = torch.tensor(X_train)\n",
        "X_test_tensor = torch.tensor(X_test)\n",
        "y_train_tensor = torch.tensor(y_train).long()\n",
        "y_test_tensor = torch.tensor(y_test).long()\n",
        "\n",
        "train_dataset = TensorDataset(X_train_tensor, y_train_tensor)\n",
        "test_dataset = TensorDataset(X_test_tensor, y_test_tensor)\n",
        "\n",
        "train_loader = DataLoader(train_dataset, batch_size=32, shuffle=True)\n",
        "\n",
        "#model with dropout for regularizattion\n",
        "model = nn.Sequential(\n",
        "    nn.Linear(13, 64),\n",
        "    nn.Dropout(0.2),\n",
        "    nn.ReLU(),\n",
        "    nn.Linear(64,32),\n",
        "    nn.Dropout(0.2),\n",
        "    nn.ReLU(),\n",
        "    nn.Linear(32,3)\n",
        ")\n",
        "#loss and opptimiser\n",
        "criterion = nn.CrossEntropyLoss()\n",
        "optimizer = optim.Adam(model.parameters(), lr= 0.001, weight_decay = 1e-4 )\n",
        "\n",
        "#train model\n",
        "epoch = 20\n",
        "for epoch in range(epoch):\n",
        "  total_loss=0\n",
        "  for batch_x, batch_y in train_loader:\n",
        "    pred = model(batch_x)\n",
        "    loss= criterion(pred, batch_y)\n",
        "\n",
        "    optimizer.zero_grad()\n",
        "    loss.backward()\n",
        "    optimizer.step()\n",
        "    total_loss += loss.item()\n",
        "\n",
        "  print(f\"Epoch {epoch+1}/{epoch}, Loss: {total_loss/len(train_loader): .4f}\")"
      ],
      "metadata": {
        "colab": {
          "base_uri": "https://localhost:8080/"
        },
        "id": "HoyfYZ8uFA03",
        "outputId": "8e4b1d19-c688-492f-c2e2-bbc1970f7e62"
      },
      "execution_count": null,
      "outputs": [
        {
          "output_type": "stream",
          "name": "stdout",
          "text": [
            "Epoch 1/0, Loss:  1.1001\n",
            "Epoch 2/1, Loss:  1.0349\n",
            "Epoch 3/2, Loss:  0.9807\n",
            "Epoch 4/3, Loss:  0.9295\n",
            "Epoch 5/4, Loss:  0.8698\n",
            "Epoch 6/5, Loss:  0.7976\n",
            "Epoch 7/6, Loss:  0.7357\n",
            "Epoch 8/7, Loss:  0.6472\n",
            "Epoch 9/8, Loss:  0.5736\n",
            "Epoch 10/9, Loss:  0.4775\n",
            "Epoch 11/10, Loss:  0.4236\n",
            "Epoch 12/11, Loss:  0.3642\n",
            "Epoch 13/12, Loss:  0.3035\n",
            "Epoch 14/13, Loss:  0.2602\n",
            "Epoch 15/14, Loss:  0.2220\n",
            "Epoch 16/15, Loss:  0.2007\n",
            "Epoch 17/16, Loss:  0.1614\n",
            "Epoch 18/17, Loss:  0.1531\n",
            "Epoch 19/18, Loss:  0.1363\n",
            "Epoch 20/19, Loss:  0.1086\n"
          ]
        }
      ]
    },
    {
      "cell_type": "code",
      "source": [
        "model.eval()\n",
        "with torch.no_grad():\n",
        "  test_pred = model(X_test_tensor)\n",
        "  test_loss = criterion(test_pred, y_test_tensor)\n",
        "  test_pred_class = torch.argmax(test_pred, dim=1)\n",
        "  accuracy = (test_pred_class == y_test_tensor).float().mean()\n",
        "\n",
        "  print(f\"\\nTest Accuracy: {accuracy*100 :.2f}%\")\n",
        "  print(f\"Test Loss: {test_loss}\")"
      ],
      "metadata": {
        "colab": {
          "base_uri": "https://localhost:8080/"
        },
        "id": "2Kb1R1BrIamB",
        "outputId": "5efcbcab-2b97-405f-e8b4-9a57edd27729"
      },
      "execution_count": null,
      "outputs": [
        {
          "output_type": "stream",
          "name": "stdout",
          "text": [
            "\n",
            "Test Accuracy: 100.00%\n",
            "Test Loss: 0.0771651566028595\n"
          ]
        }
      ]
    },
    {
      "cell_type": "code",
      "source": [
        "sample = X_test_tensor[0].unsqueeze(0)\n",
        "output = model(sample)\n",
        "predicted = torch.argmax(output).item()\n",
        "print(f\"Predicted: {predicted}, Actual: {y_test_tensor[0\n",
        "                                                       ].item()}\")"
      ],
      "metadata": {
        "colab": {
          "base_uri": "https://localhost:8080/"
        },
        "id": "VWWpZo8WJud9",
        "outputId": "d968c9f7-5c22-4685-ccef-dd3f37b867e9"
      },
      "execution_count": null,
      "outputs": [
        {
          "output_type": "stream",
          "name": "stdout",
          "text": [
            "Predicted: 0, Actual: 0\n"
          ]
        }
      ]
    },
    {
      "cell_type": "code",
      "source": [],
      "metadata": {
        "id": "W-XtbSyFMIb-"
      },
      "execution_count": null,
      "outputs": []
    }
  ]
}