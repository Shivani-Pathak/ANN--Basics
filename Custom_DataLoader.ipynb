{
  "nbformat": 4,
  "nbformat_minor": 0,
  "metadata": {
    "colab": {
      "provenance": [],
      "mount_file_id": "1IRB4VizQpEo4OlwdIIvb2jVAUvF3g5f3",
      "authorship_tag": "ABX9TyOx6RR5wJx8cb03qGcAU4hv",
      "include_colab_link": true
    },
    "kernelspec": {
      "name": "python3",
      "display_name": "Python 3"
    },
    "language_info": {
      "name": "python"
    }
  },
  "cells": [
    {
      "cell_type": "markdown",
      "metadata": {
        "id": "view-in-github",
        "colab_type": "text"
      },
      "source": [
        "<a href=\"https://colab.research.google.com/github/Shivani-Pathak/ANN--Basics/blob/main/Custom_DataLoader.ipynb\" target=\"_parent\"><img src=\"https://colab.research.google.com/assets/colab-badge.svg\" alt=\"Open In Colab\"/></a>"
      ]
    },
    {
      "cell_type": "code",
      "execution_count": null,
      "metadata": {
        "id": "XHhoFq78Pcab"
      },
      "outputs": [],
      "source": [
        "import os\n",
        "from PIL import Image\n",
        "from torch.utils.data import Dataset, DataLoader\n",
        "from torchvision import transforms"
      ]
    },
    {
      "cell_type": "code",
      "source": [
        "from google.colab import drive\n",
        "drive.mount('/content/drive')"
      ],
      "metadata": {
        "colab": {
          "base_uri": "https://localhost:8080/"
        },
        "id": "Xtx9o21XZxI7",
        "outputId": "fe807925-14fb-47dd-e44a-39f3bd41719f"
      },
      "execution_count": null,
      "outputs": [
        {
          "output_type": "stream",
          "name": "stdout",
          "text": [
            "Drive already mounted at /content/drive; to attempt to forcibly remount, call drive.mount(\"/content/drive\", force_remount=True).\n"
          ]
        }
      ]
    },
    {
      "cell_type": "code",
      "source": [
        "# this part was not able to get the images from the folder without class distribution like\n",
        "#your_dataset/               my dataset does not follow this format of data if it does this code will work\n",
        "#├── cat/\n",
        "#│   ├── cat1.jpg\n",
        "#│   ├── cat2.jpg\n",
        "#├── dog/\n",
        "#│   ├── dog1.jpg\n",
        "#│   ├── dog2.jpg\n",
        "class CustomDataloader(Dataset):\n",
        "  def __init__(self, root_dir, transform=None):\n",
        "    self.root_dir = root_dir\n",
        "    self.transform = transform\n",
        "    self.image_files = os.listdir(root_dir)\n",
        "    self.image_paths = []\n",
        "    self.labels = []\n",
        "    self.class_to_idx = {}\n",
        "\n",
        "    classes = sorted(self.image_files)\n",
        "    for i, class_name in enumerate(classes):\n",
        "      self.class_to_idx[class_name] = i\n",
        "      class_path = os.path.join(root_dir, class_name)\n",
        "      if os.path.isdir(class_path):\n",
        "        for img in os.listdir(class_path):\n",
        "          if img.lower().endswith(('.jpg', '.png', '.jpeg')):\n",
        "             self.image_paths.append(os.path.join(class_path, img))\n",
        "             self.labels.append(i)\n",
        "\n",
        "  def __len__(self):\n",
        "    return len(self.image_paths)\n",
        "\n",
        "  def __getitem__(self, idx):\n",
        "    image_path = self.image_paths[idx]\n",
        "    label = self.labels[idx]\n",
        "    image = Image.open(image_path)\n",
        "    if self.transform:\n",
        "      image = self.transform(image)\n",
        "\n",
        "    return image , label\n",
        "\n"
      ],
      "metadata": {
        "id": "suC_rOHQY2qy"
      },
      "execution_count": null,
      "outputs": []
    },
    {
      "cell_type": "code",
      "source": [
        "class dataloader_custom(Dataset):\n",
        "    def __init__(self, image_dir, transform=None):\n",
        "        self.image_paths = [os.path.join(image_dir, fname)\n",
        "                            for fname in os.listdir(image_dir)\n",
        "                            if fname.lower().endswith(('.jpg', '.png', '.jpeg'))]\n",
        "        self.transform = transform\n",
        "\n",
        "    def __len__(self):\n",
        "        return len(self.image_paths)\n",
        "\n",
        "    def __getitem__(self, idx):\n",
        "        image = Image.open(self.image_paths[idx]).convert(\"RGB\")\n",
        "        if self.transform:\n",
        "            image = self.transform(image)\n",
        "        return image\n"
      ],
      "metadata": {
        "id": "U8Gf7CXuKwwb"
      },
      "execution_count": null,
      "outputs": []
    },
    {
      "cell_type": "code",
      "source": [
        "transform = transforms.Compose([transforms.Resize((224, 224)), transforms.ToTensor()])\n",
        "\n",
        "dataset = dataloader_custom(r\"/content/drive/MyDrive/Kirmizi_Pistachio\", transform=transform)\n",
        "dataloader = DataLoader(dataset, batch_size=32, shuffle=False)"
      ],
      "metadata": {
        "id": "Fr3e_MDLK6QT"
      },
      "execution_count": null,
      "outputs": []
    },
    {
      "cell_type": "code",
      "source": [
        "for imgs in dataloader:\n",
        "    print(imgs.shape)  # (batch_size, 3, 224, 224)\n",
        "    break"
      ],
      "metadata": {
        "colab": {
          "base_uri": "https://localhost:8080/"
        },
        "id": "nViiNrPHLGV2",
        "outputId": "f37012ca-2e4e-4a2b-ffa1-4d1c75411e28"
      },
      "execution_count": null,
      "outputs": [
        {
          "output_type": "stream",
          "name": "stdout",
          "text": [
            "torch.Size([32, 3, 224, 224])\n"
          ]
        }
      ]
    },
    {
      "cell_type": "code",
      "source": [
        "for i, batch in enumerate(dataloader):\n",
        "  print(f\"Batch {i+1}: {batch.shape}\")"
      ],
      "metadata": {
        "colab": {
          "base_uri": "https://localhost:8080/"
        },
        "id": "OS2eF8QoLtR4",
        "outputId": "55db4ed8-f6c9-4148-dfee-e528272eb48b"
      },
      "execution_count": null,
      "outputs": [
        {
          "output_type": "stream",
          "name": "stdout",
          "text": [
            "Batch 1: torch.Size([32, 3, 224, 224])\n",
            "Batch 2: torch.Size([32, 3, 224, 224])\n",
            "Batch 3: torch.Size([32, 3, 224, 224])\n",
            "Batch 4: torch.Size([32, 3, 224, 224])\n",
            "Batch 5: torch.Size([32, 3, 224, 224])\n",
            "Batch 6: torch.Size([32, 3, 224, 224])\n",
            "Batch 7: torch.Size([32, 3, 224, 224])\n",
            "Batch 8: torch.Size([32, 3, 224, 224])\n",
            "Batch 9: torch.Size([32, 3, 224, 224])\n",
            "Batch 10: torch.Size([32, 3, 224, 224])\n",
            "Batch 11: torch.Size([32, 3, 224, 224])\n",
            "Batch 12: torch.Size([32, 3, 224, 224])\n",
            "Batch 13: torch.Size([32, 3, 224, 224])\n",
            "Batch 14: torch.Size([32, 3, 224, 224])\n",
            "Batch 15: torch.Size([32, 3, 224, 224])\n",
            "Batch 16: torch.Size([32, 3, 224, 224])\n",
            "Batch 17: torch.Size([32, 3, 224, 224])\n",
            "Batch 18: torch.Size([32, 3, 224, 224])\n",
            "Batch 19: torch.Size([32, 3, 224, 224])\n",
            "Batch 20: torch.Size([32, 3, 224, 224])\n"
          ]
        }
      ]
    },
    {
      "cell_type": "code",
      "source": [],
      "metadata": {
        "id": "_edcEmA1Ltun"
      },
      "execution_count": null,
      "outputs": []
    }
  ]
}